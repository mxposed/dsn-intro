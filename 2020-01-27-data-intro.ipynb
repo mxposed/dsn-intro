{
 "cells": [
  {
   "cell_type": "markdown",
   "metadata": {},
   "source": [
    "## 1/27 2020, Data Science Nights introductory sessions\n",
    "# Tabular datasets and plotting\n",
    "#### What we will try to cover?\n",
    "  * How to load a dataset\n",
    "  * How to figure out what it has\n",
    "  * How to look at a specific aspect of it and visualize\n",
    "\n",
    "#### In addition, as comments\n",
    "  * Working environment\n",
    "  * Coding conventions\n",
    "\n",
    "_Errare humanum est_\n",
    "\n",
    "_Million ways to do the same_"
   ]
  },
  {
   "cell_type": "code",
   "execution_count": 1,
   "metadata": {},
   "outputs": [],
   "source": [
    "import glob\n",
    "import pandas as pd\n",
    "import os\n",
    "import matplotlib\n",
    "import matplotlib.pyplot as plt\n",
    "import sklearn.cluster\n",
    "import numpy as np"
   ]
  },
  {
   "cell_type": "code",
   "execution_count": 2,
   "metadata": {},
   "outputs": [],
   "source": [
    "matplotlib.rcParams['figure.figsize'] = (12, 8)"
   ]
  },
  {
   "cell_type": "markdown",
   "metadata": {},
   "source": [
    "## Chapter 1. DataFrames"
   ]
  },
  {
   "cell_type": "code",
   "execution_count": 3,
   "metadata": {},
   "outputs": [],
   "source": [
    "countries = pd.read_csv(\"https://github.com/mxposed/dsn-intro/raw/master/data/countries.csv\")\n",
    "gini = pd.read_csv(\"https://github.com/mxposed/dsn-intro/raw/master/data/gini.csv\").set_index(\"country\")"
   ]
  },
  {
   "cell_type": "code",
   "execution_count": 4,
   "metadata": {},
   "outputs": [
    {
     "data": {
      "text/html": [
       "<div>\n",
       "<style scoped>\n",
       "    .dataframe tbody tr th:only-of-type {\n",
       "        vertical-align: middle;\n",
       "    }\n",
       "\n",
       "    .dataframe tbody tr th {\n",
       "        vertical-align: top;\n",
       "    }\n",
       "\n",
       "    .dataframe thead th {\n",
       "        text-align: right;\n",
       "    }\n",
       "</style>\n",
       "<table border=\"1\" class=\"dataframe\">\n",
       "  <thead>\n",
       "    <tr style=\"text-align: right;\">\n",
       "      <th></th>\n",
       "      <th>Unnamed: 0</th>\n",
       "      <th>geo</th>\n",
       "      <th>name</th>\n",
       "      <th>four_regions</th>\n",
       "      <th>eight_regions</th>\n",
       "      <th>six_regions</th>\n",
       "      <th>members_oecd_g77</th>\n",
       "      <th>Latitude</th>\n",
       "      <th>Longitude</th>\n",
       "      <th>UN member since</th>\n",
       "      <th>World bank region</th>\n",
       "      <th>World bank, 4 income groups 2017</th>\n",
       "      <th>World bank, 3 income groups 2017</th>\n",
       "    </tr>\n",
       "  </thead>\n",
       "  <tbody>\n",
       "    <tr>\n",
       "      <th>0</th>\n",
       "      <td>0</td>\n",
       "      <td>afg</td>\n",
       "      <td>Afghanistan</td>\n",
       "      <td>asia</td>\n",
       "      <td>asia_west</td>\n",
       "      <td>south_asia</td>\n",
       "      <td>g77</td>\n",
       "      <td>33</td>\n",
       "      <td>66</td>\n",
       "      <td>19/11/1946</td>\n",
       "      <td>South Asia</td>\n",
       "      <td>Low income</td>\n",
       "      <td>NaN</td>\n",
       "    </tr>\n",
       "    <tr>\n",
       "      <th>1</th>\n",
       "      <td>1</td>\n",
       "      <td>alb</td>\n",
       "      <td>Albania</td>\n",
       "      <td>europe</td>\n",
       "      <td>europe_east</td>\n",
       "      <td>europe_central_asia</td>\n",
       "      <td>others</td>\n",
       "      <td>41</td>\n",
       "      <td>20</td>\n",
       "      <td>14/12/1955</td>\n",
       "      <td>Europe &amp; Central Asia</td>\n",
       "      <td>Upper middle income</td>\n",
       "      <td>NaN</td>\n",
       "    </tr>\n",
       "    <tr>\n",
       "      <th>2</th>\n",
       "      <td>2</td>\n",
       "      <td>dza</td>\n",
       "      <td>Algeria</td>\n",
       "      <td>africa</td>\n",
       "      <td>africa_north</td>\n",
       "      <td>middle_east_north_africa</td>\n",
       "      <td>g77</td>\n",
       "      <td>28</td>\n",
       "      <td>3</td>\n",
       "      <td>8/10/1962</td>\n",
       "      <td>Middle East &amp; North Africa</td>\n",
       "      <td>Upper middle income</td>\n",
       "      <td>NaN</td>\n",
       "    </tr>\n",
       "    <tr>\n",
       "      <th>3</th>\n",
       "      <td>3</td>\n",
       "      <td>and</td>\n",
       "      <td>Andorra</td>\n",
       "      <td>europe</td>\n",
       "      <td>europe_west</td>\n",
       "      <td>europe_central_asia</td>\n",
       "      <td>others</td>\n",
       "      <td>42,50779</td>\n",
       "      <td>1,52109</td>\n",
       "      <td>28/7/1993</td>\n",
       "      <td>Europe &amp; Central Asia</td>\n",
       "      <td>High income</td>\n",
       "      <td>NaN</td>\n",
       "    </tr>\n",
       "    <tr>\n",
       "      <th>4</th>\n",
       "      <td>4</td>\n",
       "      <td>ago</td>\n",
       "      <td>Angola</td>\n",
       "      <td>africa</td>\n",
       "      <td>africa_sub_saharan</td>\n",
       "      <td>sub_saharan_africa</td>\n",
       "      <td>g77</td>\n",
       "      <td>-12,5</td>\n",
       "      <td>18,5</td>\n",
       "      <td>1/12/1976</td>\n",
       "      <td>Sub-Saharan Africa</td>\n",
       "      <td>Lower middle income</td>\n",
       "      <td>NaN</td>\n",
       "    </tr>\n",
       "  </tbody>\n",
       "</table>\n",
       "</div>"
      ],
      "text/plain": [
       "   Unnamed: 0  geo         name four_regions       eight_regions  \\\n",
       "0           0  afg  Afghanistan         asia           asia_west   \n",
       "1           1  alb      Albania       europe         europe_east   \n",
       "2           2  dza      Algeria       africa        africa_north   \n",
       "3           3  and      Andorra       europe         europe_west   \n",
       "4           4  ago       Angola       africa  africa_sub_saharan   \n",
       "\n",
       "                six_regions members_oecd_g77  Latitude Longitude  \\\n",
       "0                south_asia              g77        33        66   \n",
       "1       europe_central_asia           others        41        20   \n",
       "2  middle_east_north_africa              g77        28         3   \n",
       "3       europe_central_asia           others  42,50779   1,52109   \n",
       "4        sub_saharan_africa              g77     -12,5      18,5   \n",
       "\n",
       "  UN member since           World bank region  \\\n",
       "0      19/11/1946                  South Asia   \n",
       "1      14/12/1955       Europe & Central Asia   \n",
       "2       8/10/1962  Middle East & North Africa   \n",
       "3       28/7/1993       Europe & Central Asia   \n",
       "4       1/12/1976          Sub-Saharan Africa   \n",
       "\n",
       "  World bank, 4 income groups 2017  World bank, 3 income groups 2017  \n",
       "0                       Low income                               NaN  \n",
       "1              Upper middle income                               NaN  \n",
       "2              Upper middle income                               NaN  \n",
       "3                      High income                               NaN  \n",
       "4              Lower middle income                               NaN  "
      ]
     },
     "execution_count": 4,
     "metadata": {},
     "output_type": "execute_result"
    }
   ],
   "source": [
    "countries.head()"
   ]
  },
  {
   "cell_type": "code",
   "execution_count": 5,
   "metadata": {},
   "outputs": [
    {
     "data": {
      "text/plain": [
       "{'africa_north': Int64Index([2, 47, 51, 99, 119, 178], dtype='int64'),\n",
       " 'africa_sub_saharan': Int64Index([  4,  18,  22,  26,  27,  29,  31,  32,  33,  37,  38,  39,  41,\n",
       "              53,  54,  56,  60,  61,  64,  68,  69,  88,  97,  98, 104, 105,\n",
       "             108, 111, 112, 120, 122, 128, 129, 144, 150, 152, 154, 155, 160,\n",
       "             161, 164, 166, 172, 175, 182, 194, 195, 196],\n",
       "            dtype='int64'),\n",
       " 'america_north': Int64Index([  5,  11,  14,  17,  30,  40,  43,  48,  49,  52,  66,  67,  71,\n",
       "              73,  84, 113, 127, 134, 145, 146, 147, 177, 186],\n",
       "            dtype='int64'),\n",
       " 'america_south': Int64Index([6, 20, 23, 34, 36, 50, 70, 136, 137, 165, 187, 190], dtype='int64'),\n",
       " 'asia_west': Int64Index([  0,  12,  13,  19,  77,  79,  80,  82,  86,  87,  92,  93,  96,\n",
       "             107, 124, 131, 132, 141, 151, 163, 169, 171, 180, 184, 188, 191,\n",
       "             193],\n",
       "            dtype='int64'),\n",
       " 'east_asia_pacific': Int64Index([  8,  24,  28,  35,  57,  74,  78,  85,  89,  90,  91,  94, 106,\n",
       "             110, 114, 117, 121, 123, 126, 133, 135, 138, 148, 156, 159, 170,\n",
       "             173, 174, 176, 181, 189, 192],\n",
       "            dtype='int64'),\n",
       " 'europe_east': Int64Index([  1,   7,  10,  15,  21,  25,  42,  45,  55,  58,  62,  75,  95,\n",
       "             101, 103, 115, 118, 142, 143, 153, 157, 158, 179, 183],\n",
       "            dtype='int64'),\n",
       " 'europe_west': Int64Index([  3,   9,  16,  44,  46,  59,  63,  65,  72,  76,  81,  83, 100,\n",
       "             102, 109, 116, 125, 130, 139, 140, 149, 162, 167, 168, 185],\n",
       "            dtype='int64')}"
      ]
     },
     "execution_count": 5,
     "metadata": {},
     "output_type": "execute_result"
    }
   ],
   "source": [
    "countries.groupby(\"eight_regions\").groups"
   ]
  },
  {
   "cell_type": "code",
   "execution_count": 6,
   "metadata": {},
   "outputs": [
    {
     "data": {
      "text/html": [
       "<div>\n",
       "<style scoped>\n",
       "    .dataframe tbody tr th:only-of-type {\n",
       "        vertical-align: middle;\n",
       "    }\n",
       "\n",
       "    .dataframe tbody tr th {\n",
       "        vertical-align: top;\n",
       "    }\n",
       "\n",
       "    .dataframe thead th {\n",
       "        text-align: right;\n",
       "    }\n",
       "</style>\n",
       "<table border=\"1\" class=\"dataframe\">\n",
       "  <thead>\n",
       "    <tr style=\"text-align: right;\">\n",
       "      <th></th>\n",
       "      <th>1800</th>\n",
       "      <th>1801</th>\n",
       "      <th>1802</th>\n",
       "      <th>1803</th>\n",
       "      <th>1804</th>\n",
       "      <th>1805</th>\n",
       "      <th>1806</th>\n",
       "      <th>1807</th>\n",
       "      <th>1808</th>\n",
       "      <th>1809</th>\n",
       "      <th>...</th>\n",
       "      <th>2031</th>\n",
       "      <th>2032</th>\n",
       "      <th>2033</th>\n",
       "      <th>2034</th>\n",
       "      <th>2035</th>\n",
       "      <th>2036</th>\n",
       "      <th>2037</th>\n",
       "      <th>2038</th>\n",
       "      <th>2039</th>\n",
       "      <th>2040</th>\n",
       "    </tr>\n",
       "    <tr>\n",
       "      <th>country</th>\n",
       "      <th></th>\n",
       "      <th></th>\n",
       "      <th></th>\n",
       "      <th></th>\n",
       "      <th></th>\n",
       "      <th></th>\n",
       "      <th></th>\n",
       "      <th></th>\n",
       "      <th></th>\n",
       "      <th></th>\n",
       "      <th></th>\n",
       "      <th></th>\n",
       "      <th></th>\n",
       "      <th></th>\n",
       "      <th></th>\n",
       "      <th></th>\n",
       "      <th></th>\n",
       "      <th></th>\n",
       "      <th></th>\n",
       "      <th></th>\n",
       "      <th></th>\n",
       "    </tr>\n",
       "  </thead>\n",
       "  <tbody>\n",
       "    <tr>\n",
       "      <th>Afghanistan</th>\n",
       "      <td>30.5</td>\n",
       "      <td>30.5</td>\n",
       "      <td>30.5</td>\n",
       "      <td>30.5</td>\n",
       "      <td>30.5</td>\n",
       "      <td>30.5</td>\n",
       "      <td>30.5</td>\n",
       "      <td>30.5</td>\n",
       "      <td>30.5</td>\n",
       "      <td>30.5</td>\n",
       "      <td>...</td>\n",
       "      <td>36.8</td>\n",
       "      <td>36.8</td>\n",
       "      <td>36.8</td>\n",
       "      <td>36.8</td>\n",
       "      <td>36.8</td>\n",
       "      <td>36.8</td>\n",
       "      <td>36.8</td>\n",
       "      <td>36.8</td>\n",
       "      <td>36.8</td>\n",
       "      <td>36.8</td>\n",
       "    </tr>\n",
       "    <tr>\n",
       "      <th>Albania</th>\n",
       "      <td>38.9</td>\n",
       "      <td>38.9</td>\n",
       "      <td>38.9</td>\n",
       "      <td>38.9</td>\n",
       "      <td>38.9</td>\n",
       "      <td>38.9</td>\n",
       "      <td>38.9</td>\n",
       "      <td>38.9</td>\n",
       "      <td>38.9</td>\n",
       "      <td>38.9</td>\n",
       "      <td>...</td>\n",
       "      <td>29.0</td>\n",
       "      <td>29.0</td>\n",
       "      <td>29.0</td>\n",
       "      <td>29.0</td>\n",
       "      <td>29.0</td>\n",
       "      <td>29.0</td>\n",
       "      <td>29.0</td>\n",
       "      <td>29.0</td>\n",
       "      <td>29.0</td>\n",
       "      <td>29.0</td>\n",
       "    </tr>\n",
       "    <tr>\n",
       "      <th>Algeria</th>\n",
       "      <td>56.2</td>\n",
       "      <td>56.2</td>\n",
       "      <td>56.2</td>\n",
       "      <td>56.2</td>\n",
       "      <td>56.2</td>\n",
       "      <td>56.2</td>\n",
       "      <td>56.2</td>\n",
       "      <td>56.2</td>\n",
       "      <td>56.2</td>\n",
       "      <td>56.2</td>\n",
       "      <td>...</td>\n",
       "      <td>27.6</td>\n",
       "      <td>27.6</td>\n",
       "      <td>27.6</td>\n",
       "      <td>27.6</td>\n",
       "      <td>27.6</td>\n",
       "      <td>27.6</td>\n",
       "      <td>27.6</td>\n",
       "      <td>27.6</td>\n",
       "      <td>27.6</td>\n",
       "      <td>27.6</td>\n",
       "    </tr>\n",
       "    <tr>\n",
       "      <th>Andorra</th>\n",
       "      <td>40.0</td>\n",
       "      <td>40.0</td>\n",
       "      <td>40.0</td>\n",
       "      <td>40.0</td>\n",
       "      <td>40.0</td>\n",
       "      <td>40.0</td>\n",
       "      <td>40.0</td>\n",
       "      <td>40.0</td>\n",
       "      <td>40.0</td>\n",
       "      <td>40.0</td>\n",
       "      <td>...</td>\n",
       "      <td>40.0</td>\n",
       "      <td>40.0</td>\n",
       "      <td>40.0</td>\n",
       "      <td>40.0</td>\n",
       "      <td>40.0</td>\n",
       "      <td>40.0</td>\n",
       "      <td>40.0</td>\n",
       "      <td>40.0</td>\n",
       "      <td>40.0</td>\n",
       "      <td>40.0</td>\n",
       "    </tr>\n",
       "    <tr>\n",
       "      <th>Angola</th>\n",
       "      <td>57.2</td>\n",
       "      <td>57.2</td>\n",
       "      <td>57.2</td>\n",
       "      <td>57.2</td>\n",
       "      <td>57.2</td>\n",
       "      <td>57.2</td>\n",
       "      <td>57.2</td>\n",
       "      <td>57.2</td>\n",
       "      <td>57.2</td>\n",
       "      <td>57.2</td>\n",
       "      <td>...</td>\n",
       "      <td>42.6</td>\n",
       "      <td>42.6</td>\n",
       "      <td>42.6</td>\n",
       "      <td>42.6</td>\n",
       "      <td>42.6</td>\n",
       "      <td>42.6</td>\n",
       "      <td>42.6</td>\n",
       "      <td>42.6</td>\n",
       "      <td>42.6</td>\n",
       "      <td>42.6</td>\n",
       "    </tr>\n",
       "  </tbody>\n",
       "</table>\n",
       "<p>5 rows × 241 columns</p>\n",
       "</div>"
      ],
      "text/plain": [
       "             1800  1801  1802  1803  1804  1805  1806  1807  1808  1809  ...   \\\n",
       "country                                                                  ...    \n",
       "Afghanistan  30.5  30.5  30.5  30.5  30.5  30.5  30.5  30.5  30.5  30.5  ...    \n",
       "Albania      38.9  38.9  38.9  38.9  38.9  38.9  38.9  38.9  38.9  38.9  ...    \n",
       "Algeria      56.2  56.2  56.2  56.2  56.2  56.2  56.2  56.2  56.2  56.2  ...    \n",
       "Andorra      40.0  40.0  40.0  40.0  40.0  40.0  40.0  40.0  40.0  40.0  ...    \n",
       "Angola       57.2  57.2  57.2  57.2  57.2  57.2  57.2  57.2  57.2  57.2  ...    \n",
       "\n",
       "             2031  2032  2033  2034  2035  2036  2037  2038  2039  2040  \n",
       "country                                                                  \n",
       "Afghanistan  36.8  36.8  36.8  36.8  36.8  36.8  36.8  36.8  36.8  36.8  \n",
       "Albania      29.0  29.0  29.0  29.0  29.0  29.0  29.0  29.0  29.0  29.0  \n",
       "Algeria      27.6  27.6  27.6  27.6  27.6  27.6  27.6  27.6  27.6  27.6  \n",
       "Andorra      40.0  40.0  40.0  40.0  40.0  40.0  40.0  40.0  40.0  40.0  \n",
       "Angola       42.6  42.6  42.6  42.6  42.6  42.6  42.6  42.6  42.6  42.6  \n",
       "\n",
       "[5 rows x 241 columns]"
      ]
     },
     "execution_count": 6,
     "metadata": {},
     "output_type": "execute_result"
    }
   ],
   "source": [
    "gini.head()"
   ]
  },
  {
   "cell_type": "markdown",
   "metadata": {},
   "source": [
    "## Chapter 2. Simple plot"
   ]
  },
  {
   "cell_type": "code",
   "execution_count": 7,
   "metadata": {},
   "outputs": [
    {
     "data": {
      "text/plain": [
       "<matplotlib.collections.PathCollection at 0x104c2da90>"
      ]
     },
     "execution_count": 7,
     "metadata": {},
     "output_type": "execute_result"
    },
    {
     "data": {
      "image/png": "[encoded data removed]",
      "text/plain": [
       "<Figure size 864x576 with 1 Axes>"
      ]
     },
     "metadata": {
      "needs_background": "light"
     },
     "output_type": "display_data"
    }
   ],
   "source": [
    "plt.scatter(gini.columns, gini.loc[\"United States\", :])"
   ]
  },
  {
   "cell_type": "code",
   "execution_count": 8,
   "metadata": {},
   "outputs": [
    {
     "data": {
      "text/plain": [
       "(29.535, 57.365)"
      ]
     },
     "execution_count": 8,
     "metadata": {},
     "output_type": "execute_result"
    },
    {
     "data": {
      "image/png": "[encoded data removed]",
      "text/plain": [
       "<Figure size 864x576 with 1 Axes>"
      ]
     },
     "metadata": {
      "needs_background": "light"
     },
     "output_type": "display_data"
    }
   ],
   "source": [
    "plt.plot(gini.columns, gini.loc[\"Italy\", :], '^', lw=5)\n",
    "plt.xticks(gini.columns[::10], rotation=\"vertical\");\n",
    "plt.ylim()\n",
    "#plt.ylim(0, gini.loc[\"Japan\", :].max() + 5)"
   ]
  },
  {
   "cell_type": "markdown",
   "metadata": {},
   "source": [
    "## Chapter 3. Summary statistics"
   ]
  },
  {
   "cell_type": "code",
   "execution_count": 9,
   "metadata": {},
   "outputs": [
    {
     "data": {
      "text/plain": [
       "1800    16.3\n",
       "1801    16.3\n",
       "1802    16.3\n",
       "1803    16.3\n",
       "1804    16.3\n",
       "1805    16.3\n",
       "1806    16.3\n",
       "1807    16.3\n",
       "1808    16.3\n",
       "1809    16.3\n",
       "1810    16.3\n",
       "1811    16.3\n",
       "1812    16.3\n",
       "1813    16.3\n",
       "1814    16.3\n",
       "1815    16.3\n",
       "1816    16.3\n",
       "1817    16.3\n",
       "1818    16.3\n",
       "1819    16.3\n",
       "1820    16.3\n",
       "1821    16.3\n",
       "1822    16.3\n",
       "1823    16.3\n",
       "1824    16.3\n",
       "1825    16.3\n",
       "1826    16.3\n",
       "1827    16.3\n",
       "1828    16.3\n",
       "1829    16.3\n",
       "        ... \n",
       "2011    24.8\n",
       "2012    24.5\n",
       "2013    24.7\n",
       "2014    24.8\n",
       "2015    24.8\n",
       "2016    24.9\n",
       "2017    25.1\n",
       "2018    25.0\n",
       "2019    25.0\n",
       "2020    25.0\n",
       "2021    25.0\n",
       "2022    25.0\n",
       "2023    25.0\n",
       "2024    25.0\n",
       "2025    25.0\n",
       "2026    25.0\n",
       "2027    25.0\n",
       "2028    25.0\n",
       "2029    25.0\n",
       "2030    25.0\n",
       "2031    25.0\n",
       "2032    25.0\n",
       "2033    25.0\n",
       "2034    25.0\n",
       "2035    25.0\n",
       "2036    25.0\n",
       "2037    25.0\n",
       "2038    25.0\n",
       "2039    25.0\n",
       "2040    25.0\n",
       "Length: 241, dtype: float64"
      ]
     },
     "execution_count": 9,
     "metadata": {},
     "output_type": "execute_result"
    }
   ],
   "source": [
    "gini.min()"
   ]
  },
  {
   "cell_type": "code",
   "execution_count": 10,
   "metadata": {},
   "outputs": [
    {
     "data": {
      "text/plain": [
       "16.0"
      ]
     },
     "execution_count": 10,
     "metadata": {},
     "output_type": "execute_result"
    }
   ],
   "source": [
    "gini.min().min()"
   ]
  },
  {
   "cell_type": "code",
   "execution_count": 11,
   "metadata": {},
   "outputs": [
    {
     "data": {
      "text/plain": [
       "'1974'"
      ]
     },
     "execution_count": 11,
     "metadata": {},
     "output_type": "execute_result"
    }
   ],
   "source": [
    "gini.min().idxmin()"
   ]
  },
  {
   "cell_type": "code",
   "execution_count": 12,
   "metadata": {},
   "outputs": [
    {
     "data": {
      "text/plain": [
       "'Romania'"
      ]
     },
     "execution_count": 12,
     "metadata": {},
     "output_type": "execute_result"
    }
   ],
   "source": [
    "gini.T.min().idxmin()"
   ]
  },
  {
   "cell_type": "code",
   "execution_count": 13,
   "metadata": {},
   "outputs": [
    {
     "data": {
      "text/plain": [
       "79.9"
      ]
     },
     "execution_count": 13,
     "metadata": {},
     "output_type": "execute_result"
    }
   ],
   "source": [
    "gini.max().max()"
   ]
  },
  {
   "cell_type": "code",
   "execution_count": 14,
   "metadata": {},
   "outputs": [
    {
     "name": "stdout",
     "output_type": "stream",
     "text": [
      "<class 'pandas.core.frame.DataFrame'>\n",
      "Index: 195 entries, Afghanistan to Zimbabwe\n",
      "Columns: 241 entries, 1800 to 2040\n",
      "dtypes: float64(241)\n",
      "memory usage: 373.7+ KB\n"
     ]
    }
   ],
   "source": [
    "gini.info()"
   ]
  },
  {
   "cell_type": "code",
   "execution_count": 15,
   "metadata": {},
   "outputs": [
    {
     "data": {
      "text/html": [
       "<div>\n",
       "<style scoped>\n",
       "    .dataframe tbody tr th:only-of-type {\n",
       "        vertical-align: middle;\n",
       "    }\n",
       "\n",
       "    .dataframe tbody tr th {\n",
       "        vertical-align: top;\n",
       "    }\n",
       "\n",
       "    .dataframe thead th {\n",
       "        text-align: right;\n",
       "    }\n",
       "</style>\n",
       "<table border=\"1\" class=\"dataframe\">\n",
       "  <thead>\n",
       "    <tr style=\"text-align: right;\">\n",
       "      <th></th>\n",
       "      <th>1800</th>\n",
       "      <th>1801</th>\n",
       "      <th>1802</th>\n",
       "      <th>1803</th>\n",
       "      <th>1804</th>\n",
       "      <th>1805</th>\n",
       "      <th>1806</th>\n",
       "      <th>1807</th>\n",
       "      <th>1808</th>\n",
       "      <th>1809</th>\n",
       "      <th>...</th>\n",
       "      <th>2031</th>\n",
       "      <th>2032</th>\n",
       "      <th>2033</th>\n",
       "      <th>2034</th>\n",
       "      <th>2035</th>\n",
       "      <th>2036</th>\n",
       "      <th>2037</th>\n",
       "      <th>2038</th>\n",
       "      <th>2039</th>\n",
       "      <th>2040</th>\n",
       "    </tr>\n",
       "  </thead>\n",
       "  <tbody>\n",
       "    <tr>\n",
       "      <th>count</th>\n",
       "      <td>195.000000</td>\n",
       "      <td>195.000000</td>\n",
       "      <td>195.000000</td>\n",
       "      <td>195.000000</td>\n",
       "      <td>195.000000</td>\n",
       "      <td>195.000000</td>\n",
       "      <td>195.000000</td>\n",
       "      <td>195.000000</td>\n",
       "      <td>195.000000</td>\n",
       "      <td>195.000000</td>\n",
       "      <td>...</td>\n",
       "      <td>195.000000</td>\n",
       "      <td>195.000000</td>\n",
       "      <td>195.000000</td>\n",
       "      <td>195.000000</td>\n",
       "      <td>195.000000</td>\n",
       "      <td>195.000000</td>\n",
       "      <td>195.000000</td>\n",
       "      <td>195.000000</td>\n",
       "      <td>195.000000</td>\n",
       "      <td>195.000000</td>\n",
       "    </tr>\n",
       "    <tr>\n",
       "      <th>mean</th>\n",
       "      <td>41.411282</td>\n",
       "      <td>41.411282</td>\n",
       "      <td>41.411282</td>\n",
       "      <td>41.411282</td>\n",
       "      <td>41.411282</td>\n",
       "      <td>41.411282</td>\n",
       "      <td>41.411282</td>\n",
       "      <td>41.411282</td>\n",
       "      <td>41.411282</td>\n",
       "      <td>41.411282</td>\n",
       "      <td>...</td>\n",
       "      <td>38.850769</td>\n",
       "      <td>38.850769</td>\n",
       "      <td>38.850769</td>\n",
       "      <td>38.850769</td>\n",
       "      <td>38.850769</td>\n",
       "      <td>38.850769</td>\n",
       "      <td>38.850769</td>\n",
       "      <td>38.850769</td>\n",
       "      <td>38.850769</td>\n",
       "      <td>38.850769</td>\n",
       "    </tr>\n",
       "    <tr>\n",
       "      <th>std</th>\n",
       "      <td>9.499868</td>\n",
       "      <td>9.499868</td>\n",
       "      <td>9.499868</td>\n",
       "      <td>9.499868</td>\n",
       "      <td>9.499868</td>\n",
       "      <td>9.499868</td>\n",
       "      <td>9.499868</td>\n",
       "      <td>9.499868</td>\n",
       "      <td>9.499868</td>\n",
       "      <td>9.499868</td>\n",
       "      <td>...</td>\n",
       "      <td>7.378433</td>\n",
       "      <td>7.378433</td>\n",
       "      <td>7.378433</td>\n",
       "      <td>7.378433</td>\n",
       "      <td>7.378433</td>\n",
       "      <td>7.378433</td>\n",
       "      <td>7.378433</td>\n",
       "      <td>7.378433</td>\n",
       "      <td>7.378433</td>\n",
       "      <td>7.378433</td>\n",
       "    </tr>\n",
       "    <tr>\n",
       "      <th>min</th>\n",
       "      <td>16.300000</td>\n",
       "      <td>16.300000</td>\n",
       "      <td>16.300000</td>\n",
       "      <td>16.300000</td>\n",
       "      <td>16.300000</td>\n",
       "      <td>16.300000</td>\n",
       "      <td>16.300000</td>\n",
       "      <td>16.300000</td>\n",
       "      <td>16.300000</td>\n",
       "      <td>16.300000</td>\n",
       "      <td>...</td>\n",
       "      <td>25.000000</td>\n",
       "      <td>25.000000</td>\n",
       "      <td>25.000000</td>\n",
       "      <td>25.000000</td>\n",
       "      <td>25.000000</td>\n",
       "      <td>25.000000</td>\n",
       "      <td>25.000000</td>\n",
       "      <td>25.000000</td>\n",
       "      <td>25.000000</td>\n",
       "      <td>25.000000</td>\n",
       "    </tr>\n",
       "    <tr>\n",
       "      <th>25%</th>\n",
       "      <td>36.000000</td>\n",
       "      <td>36.000000</td>\n",
       "      <td>36.000000</td>\n",
       "      <td>36.000000</td>\n",
       "      <td>36.000000</td>\n",
       "      <td>36.000000</td>\n",
       "      <td>36.000000</td>\n",
       "      <td>36.000000</td>\n",
       "      <td>36.000000</td>\n",
       "      <td>36.000000</td>\n",
       "      <td>...</td>\n",
       "      <td>33.500000</td>\n",
       "      <td>33.500000</td>\n",
       "      <td>33.500000</td>\n",
       "      <td>33.500000</td>\n",
       "      <td>33.500000</td>\n",
       "      <td>33.500000</td>\n",
       "      <td>33.500000</td>\n",
       "      <td>33.500000</td>\n",
       "      <td>33.500000</td>\n",
       "      <td>33.500000</td>\n",
       "    </tr>\n",
       "    <tr>\n",
       "      <th>50%</th>\n",
       "      <td>40.000000</td>\n",
       "      <td>40.000000</td>\n",
       "      <td>40.000000</td>\n",
       "      <td>40.000000</td>\n",
       "      <td>40.000000</td>\n",
       "      <td>40.000000</td>\n",
       "      <td>40.000000</td>\n",
       "      <td>40.000000</td>\n",
       "      <td>40.000000</td>\n",
       "      <td>40.000000</td>\n",
       "      <td>...</td>\n",
       "      <td>39.100000</td>\n",
       "      <td>39.100000</td>\n",
       "      <td>39.100000</td>\n",
       "      <td>39.100000</td>\n",
       "      <td>39.100000</td>\n",
       "      <td>39.100000</td>\n",
       "      <td>39.100000</td>\n",
       "      <td>39.100000</td>\n",
       "      <td>39.100000</td>\n",
       "      <td>39.100000</td>\n",
       "    </tr>\n",
       "    <tr>\n",
       "      <th>75%</th>\n",
       "      <td>46.650000</td>\n",
       "      <td>46.650000</td>\n",
       "      <td>46.650000</td>\n",
       "      <td>46.650000</td>\n",
       "      <td>46.650000</td>\n",
       "      <td>46.650000</td>\n",
       "      <td>46.650000</td>\n",
       "      <td>46.650000</td>\n",
       "      <td>46.650000</td>\n",
       "      <td>46.650000</td>\n",
       "      <td>...</td>\n",
       "      <td>42.750000</td>\n",
       "      <td>42.750000</td>\n",
       "      <td>42.750000</td>\n",
       "      <td>42.750000</td>\n",
       "      <td>42.750000</td>\n",
       "      <td>42.750000</td>\n",
       "      <td>42.750000</td>\n",
       "      <td>42.750000</td>\n",
       "      <td>42.750000</td>\n",
       "      <td>42.750000</td>\n",
       "    </tr>\n",
       "    <tr>\n",
       "      <th>max</th>\n",
       "      <td>74.200000</td>\n",
       "      <td>74.200000</td>\n",
       "      <td>74.200000</td>\n",
       "      <td>74.200000</td>\n",
       "      <td>74.200000</td>\n",
       "      <td>74.200000</td>\n",
       "      <td>74.200000</td>\n",
       "      <td>74.200000</td>\n",
       "      <td>74.200000</td>\n",
       "      <td>74.200000</td>\n",
       "      <td>...</td>\n",
       "      <td>63.000000</td>\n",
       "      <td>63.000000</td>\n",
       "      <td>63.000000</td>\n",
       "      <td>63.000000</td>\n",
       "      <td>63.000000</td>\n",
       "      <td>63.000000</td>\n",
       "      <td>63.000000</td>\n",
       "      <td>63.000000</td>\n",
       "      <td>63.000000</td>\n",
       "      <td>63.000000</td>\n",
       "    </tr>\n",
       "  </tbody>\n",
       "</table>\n",
       "<p>8 rows × 241 columns</p>\n",
       "</div>"
      ],
      "text/plain": [
       "             1800        1801        1802        1803        1804        1805  \\\n",
       "count  195.000000  195.000000  195.000000  195.000000  195.000000  195.000000   \n",
       "mean    41.411282   41.411282   41.411282   41.411282   41.411282   41.411282   \n",
       "std      9.499868    9.499868    9.499868    9.499868    9.499868    9.499868   \n",
       "min     16.300000   16.300000   16.300000   16.300000   16.300000   16.300000   \n",
       "25%     36.000000   36.000000   36.000000   36.000000   36.000000   36.000000   \n",
       "50%     40.000000   40.000000   40.000000   40.000000   40.000000   40.000000   \n",
       "75%     46.650000   46.650000   46.650000   46.650000   46.650000   46.650000   \n",
       "max     74.200000   74.200000   74.200000   74.200000   74.200000   74.200000   \n",
       "\n",
       "             1806        1807        1808        1809     ...            2031  \\\n",
       "count  195.000000  195.000000  195.000000  195.000000     ...      195.000000   \n",
       "mean    41.411282   41.411282   41.411282   41.411282     ...       38.850769   \n",
       "std      9.499868    9.499868    9.499868    9.499868     ...        7.378433   \n",
       "min     16.300000   16.300000   16.300000   16.300000     ...       25.000000   \n",
       "25%     36.000000   36.000000   36.000000   36.000000     ...       33.500000   \n",
       "50%     40.000000   40.000000   40.000000   40.000000     ...       39.100000   \n",
       "75%     46.650000   46.650000   46.650000   46.650000     ...       42.750000   \n",
       "max     74.200000   74.200000   74.200000   74.200000     ...       63.000000   \n",
       "\n",
       "             2032        2033        2034        2035        2036        2037  \\\n",
       "count  195.000000  195.000000  195.000000  195.000000  195.000000  195.000000   \n",
       "mean    38.850769   38.850769   38.850769   38.850769   38.850769   38.850769   \n",
       "std      7.378433    7.378433    7.378433    7.378433    7.378433    7.378433   \n",
       "min     25.000000   25.000000   25.000000   25.000000   25.000000   25.000000   \n",
       "25%     33.500000   33.500000   33.500000   33.500000   33.500000   33.500000   \n",
       "50%     39.100000   39.100000   39.100000   39.100000   39.100000   39.100000   \n",
       "75%     42.750000   42.750000   42.750000   42.750000   42.750000   42.750000   \n",
       "max     63.000000   63.000000   63.000000   63.000000   63.000000   63.000000   \n",
       "\n",
       "             2038        2039        2040  \n",
       "count  195.000000  195.000000  195.000000  \n",
       "mean    38.850769   38.850769   38.850769  \n",
       "std      7.378433    7.378433    7.378433  \n",
       "min     25.000000   25.000000   25.000000  \n",
       "25%     33.500000   33.500000   33.500000  \n",
       "50%     39.100000   39.100000   39.100000  \n",
       "75%     42.750000   42.750000   42.750000  \n",
       "max     63.000000   63.000000   63.000000  \n",
       "\n",
       "[8 rows x 241 columns]"
      ]
     },
     "execution_count": 15,
     "metadata": {},
     "output_type": "execute_result"
    }
   ],
   "source": [
    "gini.describe()"
   ]
  },
  {
   "cell_type": "code",
   "execution_count": 16,
   "metadata": {},
   "outputs": [
    {
     "data": {
      "text/plain": [
       "(array([ 5.,  4.,  5., 10., 15., 13., 17., 21., 38., 18., 12., 14.,  5.,\n",
       "         4.,  4.,  3.,  2.,  2.,  1.,  2.]),\n",
       " array([20.2, 22.5, 24.8, 27.1, 29.4, 31.7, 34. , 36.3, 38.6, 40.9, 43.2,\n",
       "        45.5, 47.8, 50.1, 52.4, 54.7, 57. , 59.3, 61.6, 63.9, 66.2]),\n",
       " <a list of 20 Patch objects>)"
      ]
     },
     "execution_count": 16,
     "metadata": {},
     "output_type": "execute_result"
    },
    {
     "data": {
      "image/png": "[encoded data removed]",
      "text/plain": [
       "<Figure size 864x576 with 1 Axes>"
      ]
     },
     "metadata": {
      "needs_background": "light"
     },
     "output_type": "display_data"
    }
   ],
   "source": [
    "plt.hist(gini.loc[:, \"1950\"], bins = 20)"
   ]
  },
  {
   "cell_type": "markdown",
   "metadata": {},
   "source": [
    "## Chapter 4. Groups"
   ]
  },
  {
   "cell_type": "code",
   "execution_count": 17,
   "metadata": {},
   "outputs": [],
   "source": [
    "mean_50_by_region = pd.DataFrame(\n",
    "    {\"region\": countries.set_index(\"name\").four_regions, \n",
    "     \"gini_50\": gini.loc[:, \"1950\"]}, \n",
    "    index=gini.index\n",
    ").groupby(\"region\").agg([\"mean\", \"std\"])"
   ]
  },
  {
   "cell_type": "code",
   "execution_count": 18,
   "metadata": {},
   "outputs": [],
   "source": [
    "colors = plt.get_cmap(\"Pastel1\", len(mean_50_by_region.index))"
   ]
  },
  {
   "cell_type": "code",
   "execution_count": 19,
   "metadata": {},
   "outputs": [
    {
     "data": {
      "text/plain": [
       "<BarContainer object of 4 artists>"
      ]
     },
     "execution_count": 19,
     "metadata": {},
     "output_type": "execute_result"
    },
    {
     "data": {
      "image/png": "[encoded data removed]",
      "text/plain": [
       "<Figure size 864x576 with 1 Axes>"
      ]
     },
     "metadata": {
      "needs_background": "light"
     },
     "output_type": "display_data"
    }
   ],
   "source": [
    "plt.bar(\n",
    "    mean_50_by_region.index, \n",
    "    mean_50_by_region.iloc[:, 0], \n",
    "    yerr=mean_50_by_region.iloc[:, 1], \n",
    "    capsize=10,\n",
    "    color=list(map(lambda i: colors(i[0]), enumerate(mean_50_by_region.index)))\n",
    ")"
   ]
  },
  {
   "cell_type": "code",
   "execution_count": 22,
   "metadata": {},
   "outputs": [
    {
     "data": {
      "text/plain": [
       "<matplotlib.legend.Legend at 0x11afbf128>"
      ]
     },
     "execution_count": 22,
     "metadata": {},
     "output_type": "execute_result"
    },
    {
     "data": {
      "image/png": "[encoded data removed]",
      "text/plain": [
       "<Figure size 864x576 with 1 Axes>"
      ]
     },
     "metadata": {
      "needs_background": "light"
     },
     "output_type": "display_data"
    }
   ],
   "source": [
    "colors = {\n",
    "    'asia': 'red',\n",
    "    'europe': 'green',\n",
    "    'africa': 'blue',\n",
    "    'americas': 'brown'\n",
    "}\n",
    "gini_with_regions = gini.merge(countries.loc[:, \"name\":\"six_regions\"], left_on=\"country\", right_on=\"name\").set_index(gini.index)\n",
    "for region, slice in gini_with_regions.groupby(\"four_regions\"):\n",
    "    m = slice.mean()\n",
    "    sd = slice.std()\n",
    "    plt.plot(\n",
    "        slice.columns[:-4], \n",
    "        m, \n",
    "        c=colors[region], \n",
    "        label=\"{} ({})\".format(region, slice.shape[0])\n",
    "    )\n",
    "#     plt.fill_between(\n",
    "#         our_gini.columns,\n",
    "#         m - sd,\n",
    "#         m + sd,\n",
    "#         color=colors[cl],\n",
    "#         alpha=0.2\n",
    "#     )\n",
    "plt.ylim(0, gini.max().max())\n",
    "plt.xticks(gini.columns[::10], rotation=\"vertical\")\n",
    "plt.legend(loc=\"lower left\")"
   ]
  },
  {
   "cell_type": "markdown",
   "metadata": {},
   "source": [
    "## Chapter 5. Clustering"
   ]
  },
  {
   "cell_type": "code",
   "execution_count": null,
   "metadata": {},
   "outputs": [],
   "source": [
    "for row in range(gini.shape[0]):\n",
    "    plt.plot(gini.columns, gini.iloc[row,], c=\"black\")\n",
    "plt.ylim(0, gini.max().max())\n",
    "plt.xticks(gini.columns[::10], rotation=\"vertical\");"
   ]
  },
  {
   "cell_type": "code",
   "execution_count": null,
   "metadata": {},
   "outputs": [],
   "source": [
    "plt.hist(gini.std(axis=1), bins=40);"
   ]
  },
  {
   "cell_type": "code",
   "execution_count": null,
   "metadata": {},
   "outputs": [],
   "source": [
    "gini.index[gini.std(axis=1) < 0.5]"
   ]
  },
  {
   "cell_type": "code",
   "execution_count": null,
   "metadata": {},
   "outputs": [],
   "source": [
    "our_gini = gini.loc[gini.std(axis=1) > 1, \"1900\":\"2015\"]"
   ]
  },
  {
   "cell_type": "code",
   "execution_count": null,
   "metadata": {},
   "outputs": [],
   "source": [
    "our_gini.shape"
   ]
  },
  {
   "cell_type": "code",
   "execution_count": null,
   "metadata": {},
   "outputs": [],
   "source": []
  },
  {
   "cell_type": "code",
   "execution_count": null,
   "metadata": {},
   "outputs": [],
   "source": [
    "kmeans = sklearn.cluster.KMeans(n_clusters=4, n_init=100)\n",
    "labels = kmeans.fit_predict(our_gini.subtract(our_gini.min(axis=1), axis=\"rows\"))\n",
    "colors = {\n",
    "    0: 'red',\n",
    "    1: 'green',\n",
    "    2: 'blue',\n",
    "    3: 'brown'\n",
    "}\n",
    "for cl in np.unique(labels):\n",
    "    m = our_gini.iloc[labels == cl, ].mean()\n",
    "    sd = our_gini.iloc[labels == cl, ].std()\n",
    "    plt.plot(\n",
    "        our_gini.columns, \n",
    "        m, \n",
    "        c=colors[cl], \n",
    "        label=\"C{} ({})\".format(cl, (labels == cl).sum())\n",
    "    )\n",
    "#     plt.fill_between(\n",
    "#         our_gini.columns,\n",
    "#         m - sd,\n",
    "#         m + sd,\n",
    "#         color=colors[cl],\n",
    "#         alpha=0.2\n",
    "#     )\n",
    "plt.ylim(0, our_gini.max().max())\n",
    "plt.xticks(our_gini.columns[::10], rotation=\"vertical\")\n",
    "plt.legend(loc=\"lower left\")"
   ]
  },
  {
   "cell_type": "code",
   "execution_count": null,
   "metadata": {},
   "outputs": [],
   "source": [
    "our_gini.index[labels == 3]"
   ]
  },
  {
   "cell_type": "code",
   "execution_count": null,
   "metadata": {},
   "outputs": [],
   "source": [
    "labels[our_gini.index == \"Japan\"]"
   ]
  },
  {
   "cell_type": "code",
   "execution_count": null,
   "metadata": {},
   "outputs": [],
   "source": []
  }
 ],
 "metadata": {
  "kernelspec": {
   "display_name": "Python 3",
   "language": "python",
   "name": "python3"
  },
  "language_info": {
   "codemirror_mode": {
    "name": "ipython",
    "version": 3
   },
   "file_extension": ".py",
   "mimetype": "text/x-python",
   "name": "python",
   "nbconvert_exporter": "python",
   "pygments_lexer": "ipython3",
   "version": "3.7.1"
  }
 },
 "nbformat": 4,
 "nbformat_minor": 2
}
