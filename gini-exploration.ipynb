{
 "cells": [
  {
   "cell_type": "code",
   "execution_count": 91,
   "metadata": {},
   "outputs": [],
   "source": [
    "import glob\n",
    "import pandas as pd\n",
    "import os\n",
    "import matplotlib.pyplot as plt\n",
    "import sklearn.cluster\n",
    "import numpy as np"
   ]
  },
  {
   "cell_type": "code",
   "execution_count": 27,
   "metadata": {},
   "outputs": [],
   "source": [
    "%matplotlib inline"
   ]
  },
  {
   "cell_type": "code",
   "execution_count": 6,
   "metadata": {},
   "outputs": [],
   "source": [
    "countries = pd.read_csv(\"data/countries.csv\")"
   ]
  },
  {
   "cell_type": "code",
   "execution_count": 19,
   "metadata": {},
   "outputs": [],
   "source": [
    "features = {}\n",
    "for i in glob.glob(\"data/*.csv\"):\n",
    "    if not i.endswith(\"/countries.csv\"):\n",
    "        feature = os.path.splitext(os.path.basename(i))[0]\n",
    "        features[feature] = pd.read_csv(i).set_index(\"country\")"
   ]
  },
  {
   "cell_type": "code",
   "execution_count": 20,
   "metadata": {},
   "outputs": [],
   "source": [
    "gini = features[\"gini\"]"
   ]
  },
  {
   "cell_type": "code",
   "execution_count": 39,
   "metadata": {},
   "outputs": [
    {
     "data": {
      "text/plain": [
       "(0, 53.5)"
      ]
     },
     "execution_count": 39,
     "metadata": {},
     "output_type": "execute_result"
    },
    {
     "data": {
      "image/png": "[encoded data removed]",
      "text/plain": [
       "<Figure size 432x288 with 1 Axes>"
      ]
     },
     "metadata": {
      "needs_background": "light"
     },
     "output_type": "display_data"
    }
   ],
   "source": [
    "plt.plot(gini.columns, gini.loc[\"Japan\", :])\n",
    "plt.xticks(gini.columns[::10], rotation=\"vertical\")\n",
    "plt.ylim(0, gini.loc[\"Japan\", :].max() + 5)"
   ]
  },
  {
   "cell_type": "code",
   "execution_count": 42,
   "metadata": {},
   "outputs": [
    {
     "data": {
      "text/plain": [
       "(0, 56.61871347515447)"
      ]
     },
     "execution_count": 42,
     "metadata": {},
     "output_type": "execute_result"
    },
    {
     "data": {
      "image/png": "[encoded data removed]",
      "text/plain": [
       "<Figure size 432x288 with 1 Axes>"
      ]
     },
     "metadata": {
      "needs_background": "light"
     },
     "output_type": "display_data"
    }
   ],
   "source": [
    "mean = gini.mean()\n",
    "plt.plot(gini.columns, mean, '-r')\n",
    "plt.xticks(gini.columns[::10], rotation=\"vertical\")\n",
    "sd = gini.std()\n",
    "plt.fill_between(gini.columns, mean - sd, mean + sd, color = \"blue\", alpha = 0.2)\n",
    "plt.ylim(0, (mean + sd).max() + 5)"
   ]
  },
  {
   "cell_type": "code",
   "execution_count": 45,
   "metadata": {},
   "outputs": [
    {
     "data": {
      "text/plain": [
       "(array([ 5.,  4.,  5., 10., 15., 13., 17., 21., 38., 18., 12., 14.,  5.,\n",
       "         4.,  4.,  3.,  2.,  2.,  1.,  2.]),\n",
       " array([20.2, 22.5, 24.8, 27.1, 29.4, 31.7, 34. , 36.3, 38.6, 40.9, 43.2,\n",
       "        45.5, 47.8, 50.1, 52.4, 54.7, 57. , 59.3, 61.6, 63.9, 66.2]),\n",
       " <a list of 20 Patch objects>)"
      ]
     },
     "execution_count": 45,
     "metadata": {},
     "output_type": "execute_result"
    },
    {
     "data": {
      "image/png": "[encoded data removed]",
      "text/plain": [
       "<Figure size 432x288 with 1 Axes>"
      ]
     },
     "metadata": {
      "needs_background": "light"
     },
     "output_type": "display_data"
    }
   ],
   "source": [
    "plt.hist(gini.loc[:, \"1950\"], bins = 20)"
   ]
  },
  {
   "cell_type": "code",
   "execution_count": 46,
   "metadata": {},
   "outputs": [
    {
     "data": {
      "text/html": [
       "<div>\n",
       "<style scoped>\n",
       "    .dataframe tbody tr th:only-of-type {\n",
       "        vertical-align: middle;\n",
       "    }\n",
       "\n",
       "    .dataframe tbody tr th {\n",
       "        vertical-align: top;\n",
       "    }\n",
       "\n",
       "    .dataframe thead th {\n",
       "        text-align: right;\n",
       "    }\n",
       "</style>\n",
       "<table border=\"1\" class=\"dataframe\">\n",
       "  <thead>\n",
       "    <tr style=\"text-align: right;\">\n",
       "      <th></th>\n",
       "      <th>1800</th>\n",
       "      <th>1801</th>\n",
       "      <th>1802</th>\n",
       "      <th>1803</th>\n",
       "      <th>1804</th>\n",
       "      <th>1805</th>\n",
       "      <th>1806</th>\n",
       "      <th>1807</th>\n",
       "      <th>1808</th>\n",
       "      <th>1809</th>\n",
       "      <th>...</th>\n",
       "      <th>2031</th>\n",
       "      <th>2032</th>\n",
       "      <th>2033</th>\n",
       "      <th>2034</th>\n",
       "      <th>2035</th>\n",
       "      <th>2036</th>\n",
       "      <th>2037</th>\n",
       "      <th>2038</th>\n",
       "      <th>2039</th>\n",
       "      <th>2040</th>\n",
       "    </tr>\n",
       "  </thead>\n",
       "  <tbody>\n",
       "    <tr>\n",
       "      <th>count</th>\n",
       "      <td>195.000000</td>\n",
       "      <td>195.000000</td>\n",
       "      <td>195.000000</td>\n",
       "      <td>195.000000</td>\n",
       "      <td>195.000000</td>\n",
       "      <td>195.000000</td>\n",
       "      <td>195.000000</td>\n",
       "      <td>195.000000</td>\n",
       "      <td>195.000000</td>\n",
       "      <td>195.000000</td>\n",
       "      <td>...</td>\n",
       "      <td>195.000000</td>\n",
       "      <td>195.000000</td>\n",
       "      <td>195.000000</td>\n",
       "      <td>195.000000</td>\n",
       "      <td>195.000000</td>\n",
       "      <td>195.000000</td>\n",
       "      <td>195.000000</td>\n",
       "      <td>195.000000</td>\n",
       "      <td>195.000000</td>\n",
       "      <td>195.000000</td>\n",
       "    </tr>\n",
       "    <tr>\n",
       "      <th>mean</th>\n",
       "      <td>41.411282</td>\n",
       "      <td>41.411282</td>\n",
       "      <td>41.411282</td>\n",
       "      <td>41.411282</td>\n",
       "      <td>41.411282</td>\n",
       "      <td>41.411282</td>\n",
       "      <td>41.411282</td>\n",
       "      <td>41.411282</td>\n",
       "      <td>41.411282</td>\n",
       "      <td>41.411282</td>\n",
       "      <td>...</td>\n",
       "      <td>38.850769</td>\n",
       "      <td>38.850769</td>\n",
       "      <td>38.850769</td>\n",
       "      <td>38.850769</td>\n",
       "      <td>38.850769</td>\n",
       "      <td>38.850769</td>\n",
       "      <td>38.850769</td>\n",
       "      <td>38.850769</td>\n",
       "      <td>38.850769</td>\n",
       "      <td>38.850769</td>\n",
       "    </tr>\n",
       "    <tr>\n",
       "      <th>std</th>\n",
       "      <td>9.499868</td>\n",
       "      <td>9.499868</td>\n",
       "      <td>9.499868</td>\n",
       "      <td>9.499868</td>\n",
       "      <td>9.499868</td>\n",
       "      <td>9.499868</td>\n",
       "      <td>9.499868</td>\n",
       "      <td>9.499868</td>\n",
       "      <td>9.499868</td>\n",
       "      <td>9.499868</td>\n",
       "      <td>...</td>\n",
       "      <td>7.378433</td>\n",
       "      <td>7.378433</td>\n",
       "      <td>7.378433</td>\n",
       "      <td>7.378433</td>\n",
       "      <td>7.378433</td>\n",
       "      <td>7.378433</td>\n",
       "      <td>7.378433</td>\n",
       "      <td>7.378433</td>\n",
       "      <td>7.378433</td>\n",
       "      <td>7.378433</td>\n",
       "    </tr>\n",
       "    <tr>\n",
       "      <th>min</th>\n",
       "      <td>16.300000</td>\n",
       "      <td>16.300000</td>\n",
       "      <td>16.300000</td>\n",
       "      <td>16.300000</td>\n",
       "      <td>16.300000</td>\n",
       "      <td>16.300000</td>\n",
       "      <td>16.300000</td>\n",
       "      <td>16.300000</td>\n",
       "      <td>16.300000</td>\n",
       "      <td>16.300000</td>\n",
       "      <td>...</td>\n",
       "      <td>25.000000</td>\n",
       "      <td>25.000000</td>\n",
       "      <td>25.000000</td>\n",
       "      <td>25.000000</td>\n",
       "      <td>25.000000</td>\n",
       "      <td>25.000000</td>\n",
       "      <td>25.000000</td>\n",
       "      <td>25.000000</td>\n",
       "      <td>25.000000</td>\n",
       "      <td>25.000000</td>\n",
       "    </tr>\n",
       "    <tr>\n",
       "      <th>25%</th>\n",
       "      <td>36.000000</td>\n",
       "      <td>36.000000</td>\n",
       "      <td>36.000000</td>\n",
       "      <td>36.000000</td>\n",
       "      <td>36.000000</td>\n",
       "      <td>36.000000</td>\n",
       "      <td>36.000000</td>\n",
       "      <td>36.000000</td>\n",
       "      <td>36.000000</td>\n",
       "      <td>36.000000</td>\n",
       "      <td>...</td>\n",
       "      <td>33.500000</td>\n",
       "      <td>33.500000</td>\n",
       "      <td>33.500000</td>\n",
       "      <td>33.500000</td>\n",
       "      <td>33.500000</td>\n",
       "      <td>33.500000</td>\n",
       "      <td>33.500000</td>\n",
       "      <td>33.500000</td>\n",
       "      <td>33.500000</td>\n",
       "      <td>33.500000</td>\n",
       "    </tr>\n",
       "    <tr>\n",
       "      <th>50%</th>\n",
       "      <td>40.000000</td>\n",
       "      <td>40.000000</td>\n",
       "      <td>40.000000</td>\n",
       "      <td>40.000000</td>\n",
       "      <td>40.000000</td>\n",
       "      <td>40.000000</td>\n",
       "      <td>40.000000</td>\n",
       "      <td>40.000000</td>\n",
       "      <td>40.000000</td>\n",
       "      <td>40.000000</td>\n",
       "      <td>...</td>\n",
       "      <td>39.100000</td>\n",
       "      <td>39.100000</td>\n",
       "      <td>39.100000</td>\n",
       "      <td>39.100000</td>\n",
       "      <td>39.100000</td>\n",
       "      <td>39.100000</td>\n",
       "      <td>39.100000</td>\n",
       "      <td>39.100000</td>\n",
       "      <td>39.100000</td>\n",
       "      <td>39.100000</td>\n",
       "    </tr>\n",
       "    <tr>\n",
       "      <th>75%</th>\n",
       "      <td>46.650000</td>\n",
       "      <td>46.650000</td>\n",
       "      <td>46.650000</td>\n",
       "      <td>46.650000</td>\n",
       "      <td>46.650000</td>\n",
       "      <td>46.650000</td>\n",
       "      <td>46.650000</td>\n",
       "      <td>46.650000</td>\n",
       "      <td>46.650000</td>\n",
       "      <td>46.650000</td>\n",
       "      <td>...</td>\n",
       "      <td>42.750000</td>\n",
       "      <td>42.750000</td>\n",
       "      <td>42.750000</td>\n",
       "      <td>42.750000</td>\n",
       "      <td>42.750000</td>\n",
       "      <td>42.750000</td>\n",
       "      <td>42.750000</td>\n",
       "      <td>42.750000</td>\n",
       "      <td>42.750000</td>\n",
       "      <td>42.750000</td>\n",
       "    </tr>\n",
       "    <tr>\n",
       "      <th>max</th>\n",
       "      <td>74.200000</td>\n",
       "      <td>74.200000</td>\n",
       "      <td>74.200000</td>\n",
       "      <td>74.200000</td>\n",
       "      <td>74.200000</td>\n",
       "      <td>74.200000</td>\n",
       "      <td>74.200000</td>\n",
       "      <td>74.200000</td>\n",
       "      <td>74.200000</td>\n",
       "      <td>74.200000</td>\n",
       "      <td>...</td>\n",
       "      <td>63.000000</td>\n",
       "      <td>63.000000</td>\n",
       "      <td>63.000000</td>\n",
       "      <td>63.000000</td>\n",
       "      <td>63.000000</td>\n",
       "      <td>63.000000</td>\n",
       "      <td>63.000000</td>\n",
       "      <td>63.000000</td>\n",
       "      <td>63.000000</td>\n",
       "      <td>63.000000</td>\n",
       "    </tr>\n",
       "  </tbody>\n",
       "</table>\n",
       "<p>8 rows × 241 columns</p>\n",
       "</div>"
      ],
      "text/plain": [
       "             1800        1801        1802        1803        1804        1805  \\\n",
       "count  195.000000  195.000000  195.000000  195.000000  195.000000  195.000000   \n",
       "mean    41.411282   41.411282   41.411282   41.411282   41.411282   41.411282   \n",
       "std      9.499868    9.499868    9.499868    9.499868    9.499868    9.499868   \n",
       "min     16.300000   16.300000   16.300000   16.300000   16.300000   16.300000   \n",
       "25%     36.000000   36.000000   36.000000   36.000000   36.000000   36.000000   \n",
       "50%     40.000000   40.000000   40.000000   40.000000   40.000000   40.000000   \n",
       "75%     46.650000   46.650000   46.650000   46.650000   46.650000   46.650000   \n",
       "max     74.200000   74.200000   74.200000   74.200000   74.200000   74.200000   \n",
       "\n",
       "             1806        1807        1808        1809  ...        2031  \\\n",
       "count  195.000000  195.000000  195.000000  195.000000  ...  195.000000   \n",
       "mean    41.411282   41.411282   41.411282   41.411282  ...   38.850769   \n",
       "std      9.499868    9.499868    9.499868    9.499868  ...    7.378433   \n",
       "min     16.300000   16.300000   16.300000   16.300000  ...   25.000000   \n",
       "25%     36.000000   36.000000   36.000000   36.000000  ...   33.500000   \n",
       "50%     40.000000   40.000000   40.000000   40.000000  ...   39.100000   \n",
       "75%     46.650000   46.650000   46.650000   46.650000  ...   42.750000   \n",
       "max     74.200000   74.200000   74.200000   74.200000  ...   63.000000   \n",
       "\n",
       "             2032        2033        2034        2035        2036        2037  \\\n",
       "count  195.000000  195.000000  195.000000  195.000000  195.000000  195.000000   \n",
       "mean    38.850769   38.850769   38.850769   38.850769   38.850769   38.850769   \n",
       "std      7.378433    7.378433    7.378433    7.378433    7.378433    7.378433   \n",
       "min     25.000000   25.000000   25.000000   25.000000   25.000000   25.000000   \n",
       "25%     33.500000   33.500000   33.500000   33.500000   33.500000   33.500000   \n",
       "50%     39.100000   39.100000   39.100000   39.100000   39.100000   39.100000   \n",
       "75%     42.750000   42.750000   42.750000   42.750000   42.750000   42.750000   \n",
       "max     63.000000   63.000000   63.000000   63.000000   63.000000   63.000000   \n",
       "\n",
       "             2038        2039        2040  \n",
       "count  195.000000  195.000000  195.000000  \n",
       "mean    38.850769   38.850769   38.850769  \n",
       "std      7.378433    7.378433    7.378433  \n",
       "min     25.000000   25.000000   25.000000  \n",
       "25%     33.500000   33.500000   33.500000  \n",
       "50%     39.100000   39.100000   39.100000  \n",
       "75%     42.750000   42.750000   42.750000  \n",
       "max     63.000000   63.000000   63.000000  \n",
       "\n",
       "[8 rows x 241 columns]"
      ]
     },
     "execution_count": 46,
     "metadata": {},
     "output_type": "execute_result"
    }
   ],
   "source": [
    "gini.describe()"
   ]
  },
  {
   "cell_type": "code",
   "execution_count": 51,
   "metadata": {},
   "outputs": [
    {
     "data": {
      "text/plain": [
       "([<matplotlib.axis.XTick at 0x1215c0518>,\n",
       "  <matplotlib.axis.XTick at 0x12159d940>,\n",
       "  <matplotlib.axis.XTick at 0x12159da58>,\n",
       "  <matplotlib.axis.XTick at 0x121858198>,\n",
       "  <matplotlib.axis.XTick at 0x121858630>,\n",
       "  <matplotlib.axis.XTick at 0x121858b00>,\n",
       "  <matplotlib.axis.XTick at 0x121858d30>,\n",
       "  <matplotlib.axis.XTick at 0x12185e4e0>,\n",
       "  <matplotlib.axis.XTick at 0x12185e9b0>,\n",
       "  <matplotlib.axis.XTick at 0x12185ee80>,\n",
       "  <matplotlib.axis.XTick at 0x121867390>,\n",
       "  <matplotlib.axis.XTick at 0x12185e828>,\n",
       "  <matplotlib.axis.XTick at 0x121858a58>,\n",
       "  <matplotlib.axis.XTick at 0x121867550>,\n",
       "  <matplotlib.axis.XTick at 0x121867c50>,\n",
       "  <matplotlib.axis.XTick at 0x121871198>,\n",
       "  <matplotlib.axis.XTick at 0x121871630>,\n",
       "  <matplotlib.axis.XTick at 0x121871b00>,\n",
       "  <matplotlib.axis.XTick at 0x121871d30>,\n",
       "  <matplotlib.axis.XTick at 0x1218784e0>,\n",
       "  <matplotlib.axis.XTick at 0x1218789b0>,\n",
       "  <matplotlib.axis.XTick at 0x121871f98>,\n",
       "  <matplotlib.axis.XTick at 0x121867438>,\n",
       "  <matplotlib.axis.XTick at 0x121878630>,\n",
       "  <matplotlib.axis.XTick at 0x121881198>],\n",
       " <a list of 25 Text xticklabel objects>)"
      ]
     },
     "execution_count": 51,
     "metadata": {},
     "output_type": "execute_result"
    },
    {
     "data": {
      "image/png": "[encoded data removed]",
      "text/plain": [
       "<Figure size 432x288 with 1 Axes>"
      ]
     },
     "metadata": {
      "needs_background": "light"
     },
     "output_type": "display_data"
    }
   ],
   "source": [
    "for row in range(gini.shape[0]):\n",
    "    plt.plot(gini.columns, gini.iloc[row,], c=\"black\")\n",
    "plt.ylim(0, gini.max().max())\n",
    "plt.xticks(gini.columns[::10], rotation=\"vertical\")"
   ]
  },
  {
   "cell_type": "code",
   "execution_count": 53,
   "metadata": {},
   "outputs": [
    {
     "data": {
      "text/plain": [
       "(array([33.,  5.,  7.,  9.,  4.,  5., 10.,  7., 10., 13., 13., 11.,  9.,\n",
       "         5.,  7., 11.,  8.,  6.,  1.,  3.,  3.,  4.,  2.,  0.,  2.,  2.,\n",
       "         0.,  0.,  0.,  0.,  1.,  1.,  0.,  0.,  0.,  0.,  1.,  1.,  0.,\n",
       "         1.]),\n",
       " array([ 0.        ,  0.40454467,  0.80908934,  1.213634  ,  1.61817867,\n",
       "         2.02272334,  2.42726801,  2.83181268,  3.23635735,  3.64090201,\n",
       "         4.04544668,  4.44999135,  4.85453602,  5.25908069,  5.66362535,\n",
       "         6.06817002,  6.47271469,  6.87725936,  7.28180403,  7.68634869,\n",
       "         8.09089336,  8.49543803,  8.8999827 ,  9.30452737,  9.70907204,\n",
       "        10.1136167 , 10.51816137, 10.92270604, 11.32725071, 11.73179538,\n",
       "        12.13634004, 12.54088471, 12.94542938, 13.34997405, 13.75451872,\n",
       "        14.15906339, 14.56360805, 14.96815272, 15.37269739, 15.77724206,\n",
       "        16.18178673]),\n",
       " <a list of 40 Patch objects>)"
      ]
     },
     "execution_count": 53,
     "metadata": {},
     "output_type": "execute_result"
    },
    {
     "data": {
      "image/png": "[encoded data removed]",
      "text/plain": [
       "<Figure size 432x288 with 1 Axes>"
      ]
     },
     "metadata": {
      "needs_background": "light"
     },
     "output_type": "display_data"
    }
   ],
   "source": [
    "plt.hist(gini.std(axis=1), bins=40)"
   ]
  },
  {
   "cell_type": "code",
   "execution_count": 57,
   "metadata": {},
   "outputs": [
    {
     "data": {
      "text/plain": [
       "Index(['Andorra', 'Antigua and Barbuda', 'Bahrain', 'Brunei', 'Cambodia',\n",
       "       'Dominica', 'Equatorial Guinea', 'Eritrea', 'Grenada', 'Holy See',\n",
       "       'Kiribati', 'Kuwait', 'Libya', 'Liechtenstein', 'Malta',\n",
       "       'Marshall Islands', 'Monaco', 'Mongolia', 'Nauru', 'North Korea',\n",
       "       'Oman', 'Palau', 'Palestine', 'Qatar', 'Samoa', 'San Marino',\n",
       "       'Sao Tome and Principe', 'Saudi Arabia', 'South Sudan',\n",
       "       'St. Kitts and Nevis', 'St. Lucia', 'St. Vincent and the Grenadines',\n",
       "       'Tonga', 'Tuvalu', 'United Arab Emirates', 'Vanuatu'],\n",
       "      dtype='object', name='country')"
      ]
     },
     "execution_count": 57,
     "metadata": {},
     "output_type": "execute_result"
    }
   ],
   "source": [
    "gini.index[gini.std(axis=1) < 0.5]"
   ]
  },
  {
   "cell_type": "code",
   "execution_count": 117,
   "metadata": {},
   "outputs": [],
   "source": [
    "our_gini = gini.loc[gini.std(axis=1) > 1, \"1900\":]"
   ]
  },
  {
   "cell_type": "code",
   "execution_count": 127,
   "metadata": {},
   "outputs": [
    {
     "data": {
      "text/plain": [
       "(154, 141)"
      ]
     },
     "execution_count": 127,
     "metadata": {},
     "output_type": "execute_result"
    }
   ],
   "source": [
    "our_gini.shape"
   ]
  },
  {
   "cell_type": "code",
   "execution_count": 87,
   "metadata": {},
   "outputs": [],
   "source": []
  },
  {
   "cell_type": "code",
   "execution_count": 126,
   "metadata": {},
   "outputs": [
    {
     "data": {
      "text/plain": [
       "<matplotlib.legend.Legend at 0x12d938358>"
      ]
     },
     "execution_count": 126,
     "metadata": {},
     "output_type": "execute_result"
    },
    {
     "data": {
      "image/png": "[encoded data removed]",
      "text/plain": [
       "<Figure size 432x288 with 1 Axes>"
      ]
     },
     "metadata": {
      "needs_background": "light"
     },
     "output_type": "display_data"
    }
   ],
   "source": [
    "kmeans = sklearn.cluster.KMeans(n_clusters=4, n_init=50)\n",
    "labels = kmeans.fit_predict(our_gini.subtract(our_gini.min(axis=1), axis=\"rows\"))\n",
    "colors = {\n",
    "    0: 'red',\n",
    "    1: 'green',\n",
    "    2: 'blue',\n",
    "    3: 'brown'\n",
    "}\n",
    "for cl in np.unique(labels):\n",
    "    m = our_gini.iloc[labels == cl, ].mean()\n",
    "    sd = our_gini.iloc[labels == cl, ].std()\n",
    "    plt.plot(\n",
    "        our_gini.columns, \n",
    "        m, \n",
    "        c=colors[cl], \n",
    "        label=\"C{} ({})\".format(cl, (labels == cl).sum())\n",
    "    )\n",
    "#     plt.fill_between(\n",
    "#         our_gini.columns,\n",
    "#         m - sd,\n",
    "#         m + sd,\n",
    "#         color=colors[cl],\n",
    "#         alpha=0.2\n",
    "#     )\n",
    "plt.ylim(0, our_gini.max().max())\n",
    "plt.xticks(our_gini.columns[::10], rotation=\"vertical\")\n",
    "plt.legend(loc=\"lower left\")"
   ]
  },
  {
   "cell_type": "code",
   "execution_count": 119,
   "metadata": {},
   "outputs": [
    {
     "data": {
      "text/plain": [
       "Index(['Algeria', 'Angola', 'Armenia', 'Central African Republic', 'Chile',\n",
       "       'Estonia', 'Ethiopia', 'Gabon', 'Guinea', 'Honduras', 'Kenya', 'Mali',\n",
       "       'Senegal', 'Sierra Leone', 'South Africa', 'Tunisia', 'Venezuela',\n",
       "       'Zambia'],\n",
       "      dtype='object', name='country')"
      ]
     },
     "execution_count": 119,
     "metadata": {},
     "output_type": "execute_result"
    }
   ],
   "source": [
    "our_gini.index[labels == 1]"
   ]
  },
  {
   "cell_type": "code",
   "execution_count": 120,
   "metadata": {},
   "outputs": [
    {
     "data": {
      "text/plain": [
       "array([3], dtype=int32)"
      ]
     },
     "execution_count": 120,
     "metadata": {},
     "output_type": "execute_result"
    }
   ],
   "source": [
    "labels[our_gini.index == \"Japan\"]"
   ]
  },
  {
   "cell_type": "code",
   "execution_count": null,
   "metadata": {},
   "outputs": [],
   "source": []
  }
 ],
 "metadata": {
  "kernelspec": {
   "display_name": "Python 3",
   "language": "python",
   "name": "python3"
  },
  "language_info": {
   "codemirror_mode": {
    "name": "ipython",
    "version": 3
   },
   "file_extension": ".py",
   "mimetype": "text/x-python",
   "name": "python",
   "nbconvert_exporter": "python",
   "pygments_lexer": "ipython3",
   "version": "3.7.1"
  }
 },
 "nbformat": 4,
 "nbformat_minor": 2
}
